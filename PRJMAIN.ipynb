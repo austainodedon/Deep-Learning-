{
  "nbformat": 4,
  "nbformat_minor": 0,
  "metadata": {
    "colab": {
      "name": "PRJMAIN.ipynb",
      "version": "0.3.2",
      "provenance": [],
      "collapsed_sections": [],
      "include_colab_link": true
    },
    "kernelspec": {
      "name": "python3",
      "display_name": "Python 3"
    }
  },
  "cells": [
    {
      "cell_type": "markdown",
      "metadata": {
        "id": "view-in-github",
        "colab_type": "text"
      },
      "source": [
        "<a href=\"https://colab.research.google.com/github/austainodedon/Deep-Learning-/blob/master/PRJMAIN.ipynb\" target=\"_parent\"><img src=\"https://colab.research.google.com/assets/colab-badge.svg\" alt=\"Open In Colab\"/></a>"
      ]
    },
    {
      "metadata": {
        "id": "TjWJo8rsqFik",
        "colab_type": "code",
        "colab": {}
      },
      "cell_type": "code",
      "source": [
        ""
      ],
      "execution_count": 0,
      "outputs": []
    },
    {
      "metadata": {
        "id": "QtdNWVuVbsJC",
        "colab_type": "code",
        "outputId": "cfbdc72a-57bb-4f44-f61d-c9dcdb2901bb",
        "colab": {
          "base_uri": "https://localhost:8080/",
          "height": 34
        }
      },
      "cell_type": "code",
      "source": [
        "import tensorflow as tf\n",
        "import numpy as np\n",
        "import pandas as pd\n",
        "import seaborn as sns\n",
        "import matplotlib.pyplot as plt\n",
        "\n",
        "\n",
        "import keras\n",
        "from keras.models import Sequential\n",
        "from keras.layers import Dense\n",
        "from keras.optimizers import Adam\n",
        "import pydot\n",
        "import graphviz\n",
        "from IPython.display import SVG\n",
        "from keras.utils.vis_utils import model_to_dot\n",
        "from keras.utils import plot_model\n",
        "import seaborn as sns\n"
      ],
      "execution_count": 0,
      "outputs": [
        {
          "output_type": "stream",
          "text": [
            "Using TensorFlow backend.\n"
          ],
          "name": "stderr"
        }
      ]
    },
    {
      "metadata": {
        "id": "o4WCN763b_hN",
        "colab_type": "code",
        "outputId": "61267ed3-55bb-444b-9348-84259581cc37",
        "colab": {
          "resources": {
            "http://localhost:8080/nbextensions/google.colab/files.js": {
              "data": "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",
              "ok": true,
              "headers": [
                [
                  "content-type",
                  "application/javascript"
                ]
              ],
              "status": 200,
              "status_text": ""
            }
          },
          "base_uri": "https://localhost:8080/",
          "height": 74
        }
      },
      "cell_type": "code",
      "source": [
        "from google.colab import files\n",
        "uploaded = files.upload()"
      ],
      "execution_count": 0,
      "outputs": [
        {
          "output_type": "display_data",
          "data": {
            "text/html": [
              "\n",
              "     <input type=\"file\" id=\"files-0fde3448-5824-414f-a761-a9f92ea7b978\" name=\"files[]\" multiple disabled />\n",
              "     <output id=\"result-0fde3448-5824-414f-a761-a9f92ea7b978\">\n",
              "      Upload widget is only available when the cell has been executed in the\n",
              "      current browser session. Please rerun this cell to enable.\n",
              "      </output>\n",
              "      <script src=\"/nbextensions/google.colab/files.js\"></script> "
            ],
            "text/plain": [
              "<IPython.core.display.HTML object>"
            ]
          },
          "metadata": {
            "tags": []
          }
        },
        {
          "output_type": "stream",
          "text": [
            "Saving MYDATA.csv to MYDATA (1).csv\n"
          ],
          "name": "stdout"
        }
      ]
    },
    {
      "metadata": {
        "id": "nyJVN9YOcaF0",
        "colab_type": "code",
        "outputId": "10b5fe5d-bab1-4082-d1e6-47937627acb6",
        "colab": {
          "base_uri": "https://localhost:8080/",
          "height": 1969
        }
      },
      "cell_type": "code",
      "source": [
        "import io\n",
        "\n",
        "df = pd.read_csv(io.StringIO(uploaded['MYDATA.csv'].decode('utf-8')))\n",
        "df"
      ],
      "execution_count": 0,
      "outputs": [
        {
          "output_type": "execute_result",
          "data": {
            "text/html": [
              "<div>\n",
              "<style scoped>\n",
              "    .dataframe tbody tr th:only-of-type {\n",
              "        vertical-align: middle;\n",
              "    }\n",
              "\n",
              "    .dataframe tbody tr th {\n",
              "        vertical-align: top;\n",
              "    }\n",
              "\n",
              "    .dataframe thead th {\n",
              "        text-align: right;\n",
              "    }\n",
              "</style>\n",
              "<table border=\"1\" class=\"dataframe\">\n",
              "  <thead>\n",
              "    <tr style=\"text-align: right;\">\n",
              "      <th></th>\n",
              "      <th>Superficial velocity Gas</th>\n",
              "      <th>Superficial Velocity Liquid</th>\n",
              "      <th>Flow Pattern</th>\n",
              "    </tr>\n",
              "  </thead>\n",
              "  <tbody>\n",
              "    <tr>\n",
              "      <th>0</th>\n",
              "      <td>0.10</td>\n",
              "      <td>0.010</td>\n",
              "      <td>STRATIFIED</td>\n",
              "    </tr>\n",
              "    <tr>\n",
              "      <th>1</th>\n",
              "      <td>0.10</td>\n",
              "      <td>0.010</td>\n",
              "      <td>STRATIFIED</td>\n",
              "    </tr>\n",
              "    <tr>\n",
              "      <th>2</th>\n",
              "      <td>0.20</td>\n",
              "      <td>0.020</td>\n",
              "      <td>STRATIFIED</td>\n",
              "    </tr>\n",
              "    <tr>\n",
              "      <th>3</th>\n",
              "      <td>0.30</td>\n",
              "      <td>0.030</td>\n",
              "      <td>STRATIFIED</td>\n",
              "    </tr>\n",
              "    <tr>\n",
              "      <th>4</th>\n",
              "      <td>0.40</td>\n",
              "      <td>0.040</td>\n",
              "      <td>STRATIFIED</td>\n",
              "    </tr>\n",
              "    <tr>\n",
              "      <th>5</th>\n",
              "      <td>0.50</td>\n",
              "      <td>0.050</td>\n",
              "      <td>STRATIFIED</td>\n",
              "    </tr>\n",
              "    <tr>\n",
              "      <th>6</th>\n",
              "      <td>0.60</td>\n",
              "      <td>0.060</td>\n",
              "      <td>STRATIFIED</td>\n",
              "    </tr>\n",
              "    <tr>\n",
              "      <th>7</th>\n",
              "      <td>0.70</td>\n",
              "      <td>0.070</td>\n",
              "      <td>STRATIFIED</td>\n",
              "    </tr>\n",
              "    <tr>\n",
              "      <th>8</th>\n",
              "      <td>0.80</td>\n",
              "      <td>0.080</td>\n",
              "      <td>STRATIFIED</td>\n",
              "    </tr>\n",
              "    <tr>\n",
              "      <th>9</th>\n",
              "      <td>0.80</td>\n",
              "      <td>0.100</td>\n",
              "      <td>STRATIFIED</td>\n",
              "    </tr>\n",
              "    <tr>\n",
              "      <th>10</th>\n",
              "      <td>1.00</td>\n",
              "      <td>0.070</td>\n",
              "      <td>STRATIFIED</td>\n",
              "    </tr>\n",
              "    <tr>\n",
              "      <th>11</th>\n",
              "      <td>0.90</td>\n",
              "      <td>0.013</td>\n",
              "      <td>STRATIFIED</td>\n",
              "    </tr>\n",
              "    <tr>\n",
              "      <th>12</th>\n",
              "      <td>0.09</td>\n",
              "      <td>0.100</td>\n",
              "      <td>STRATIFIED</td>\n",
              "    </tr>\n",
              "    <tr>\n",
              "      <th>13</th>\n",
              "      <td>1.50</td>\n",
              "      <td>0.100</td>\n",
              "      <td>STRATIFIED</td>\n",
              "    </tr>\n",
              "    <tr>\n",
              "      <th>14</th>\n",
              "      <td>0.80</td>\n",
              "      <td>0.060</td>\n",
              "      <td>STRATIFIED</td>\n",
              "    </tr>\n",
              "    <tr>\n",
              "      <th>15</th>\n",
              "      <td>0.80</td>\n",
              "      <td>0.070</td>\n",
              "      <td>STRATIFIED</td>\n",
              "    </tr>\n",
              "    <tr>\n",
              "      <th>16</th>\n",
              "      <td>0.05</td>\n",
              "      <td>0.060</td>\n",
              "      <td>STRATIFIED</td>\n",
              "    </tr>\n",
              "    <tr>\n",
              "      <th>17</th>\n",
              "      <td>0.14</td>\n",
              "      <td>0.030</td>\n",
              "      <td>STRATIFIED</td>\n",
              "    </tr>\n",
              "    <tr>\n",
              "      <th>18</th>\n",
              "      <td>1.60</td>\n",
              "      <td>0.010</td>\n",
              "      <td>STRATIFIED</td>\n",
              "    </tr>\n",
              "    <tr>\n",
              "      <th>19</th>\n",
              "      <td>0.90</td>\n",
              "      <td>0.090</td>\n",
              "      <td>STRATIFIED</td>\n",
              "    </tr>\n",
              "    <tr>\n",
              "      <th>20</th>\n",
              "      <td>9.00</td>\n",
              "      <td>0.040</td>\n",
              "      <td>WAVE</td>\n",
              "    </tr>\n",
              "    <tr>\n",
              "      <th>21</th>\n",
              "      <td>10.00</td>\n",
              "      <td>0.050</td>\n",
              "      <td>WAVE</td>\n",
              "    </tr>\n",
              "    <tr>\n",
              "      <th>22</th>\n",
              "      <td>11.00</td>\n",
              "      <td>0.080</td>\n",
              "      <td>WAVE</td>\n",
              "    </tr>\n",
              "    <tr>\n",
              "      <th>23</th>\n",
              "      <td>9.00</td>\n",
              "      <td>0.010</td>\n",
              "      <td>WAVE</td>\n",
              "    </tr>\n",
              "    <tr>\n",
              "      <th>24</th>\n",
              "      <td>9.00</td>\n",
              "      <td>0.080</td>\n",
              "      <td>WAVE</td>\n",
              "    </tr>\n",
              "    <tr>\n",
              "      <th>25</th>\n",
              "      <td>12.00</td>\n",
              "      <td>0.090</td>\n",
              "      <td>WAVE</td>\n",
              "    </tr>\n",
              "    <tr>\n",
              "      <th>26</th>\n",
              "      <td>13.00</td>\n",
              "      <td>0.070</td>\n",
              "      <td>WAVE</td>\n",
              "    </tr>\n",
              "    <tr>\n",
              "      <th>27</th>\n",
              "      <td>14.00</td>\n",
              "      <td>0.030</td>\n",
              "      <td>WAVE</td>\n",
              "    </tr>\n",
              "    <tr>\n",
              "      <th>28</th>\n",
              "      <td>15.00</td>\n",
              "      <td>0.010</td>\n",
              "      <td>WAVE</td>\n",
              "    </tr>\n",
              "    <tr>\n",
              "      <th>29</th>\n",
              "      <td>15.00</td>\n",
              "      <td>0.009</td>\n",
              "      <td>WAVE</td>\n",
              "    </tr>\n",
              "    <tr>\n",
              "      <th>...</th>\n",
              "      <td>...</td>\n",
              "      <td>...</td>\n",
              "      <td>...</td>\n",
              "    </tr>\n",
              "    <tr>\n",
              "      <th>90</th>\n",
              "      <td>0.60</td>\n",
              "      <td>2.000</td>\n",
              "      <td>BUBBLE</td>\n",
              "    </tr>\n",
              "    <tr>\n",
              "      <th>91</th>\n",
              "      <td>0.50</td>\n",
              "      <td>1.000</td>\n",
              "      <td>BUBBLE</td>\n",
              "    </tr>\n",
              "    <tr>\n",
              "      <th>92</th>\n",
              "      <td>0.20</td>\n",
              "      <td>0.600</td>\n",
              "      <td>BUBBLE</td>\n",
              "    </tr>\n",
              "    <tr>\n",
              "      <th>93</th>\n",
              "      <td>0.10</td>\n",
              "      <td>0.300</td>\n",
              "      <td>BUBBLE</td>\n",
              "    </tr>\n",
              "    <tr>\n",
              "      <th>94</th>\n",
              "      <td>0.20</td>\n",
              "      <td>1.000</td>\n",
              "      <td>BUBBLE</td>\n",
              "    </tr>\n",
              "    <tr>\n",
              "      <th>95</th>\n",
              "      <td>0.15</td>\n",
              "      <td>0.900</td>\n",
              "      <td>BUBBLE</td>\n",
              "    </tr>\n",
              "    <tr>\n",
              "      <th>96</th>\n",
              "      <td>0.18</td>\n",
              "      <td>0.200</td>\n",
              "      <td>BUBBLE</td>\n",
              "    </tr>\n",
              "    <tr>\n",
              "      <th>97</th>\n",
              "      <td>0.42</td>\n",
              "      <td>1.000</td>\n",
              "      <td>BUBBLE</td>\n",
              "    </tr>\n",
              "    <tr>\n",
              "      <th>98</th>\n",
              "      <td>0.32</td>\n",
              "      <td>1.100</td>\n",
              "      <td>BUBBLE</td>\n",
              "    </tr>\n",
              "    <tr>\n",
              "      <th>99</th>\n",
              "      <td>0.12</td>\n",
              "      <td>0.300</td>\n",
              "      <td>BUBBLE</td>\n",
              "    </tr>\n",
              "    <tr>\n",
              "      <th>100</th>\n",
              "      <td>0.10</td>\n",
              "      <td>12.000</td>\n",
              "      <td>DISPERSED</td>\n",
              "    </tr>\n",
              "    <tr>\n",
              "      <th>101</th>\n",
              "      <td>0.20</td>\n",
              "      <td>40.000</td>\n",
              "      <td>DISPERSED</td>\n",
              "    </tr>\n",
              "    <tr>\n",
              "      <th>102</th>\n",
              "      <td>0.60</td>\n",
              "      <td>39.000</td>\n",
              "      <td>DISPERSED</td>\n",
              "    </tr>\n",
              "    <tr>\n",
              "      <th>103</th>\n",
              "      <td>1.00</td>\n",
              "      <td>9.000</td>\n",
              "      <td>DISPERSED</td>\n",
              "    </tr>\n",
              "    <tr>\n",
              "      <th>104</th>\n",
              "      <td>2.00</td>\n",
              "      <td>10.000</td>\n",
              "      <td>DISPERSED</td>\n",
              "    </tr>\n",
              "    <tr>\n",
              "      <th>105</th>\n",
              "      <td>3.00</td>\n",
              "      <td>29.000</td>\n",
              "      <td>DISPERSED</td>\n",
              "    </tr>\n",
              "    <tr>\n",
              "      <th>106</th>\n",
              "      <td>4.00</td>\n",
              "      <td>9.900</td>\n",
              "      <td>DISPERSED</td>\n",
              "    </tr>\n",
              "    <tr>\n",
              "      <th>107</th>\n",
              "      <td>5.00</td>\n",
              "      <td>42.000</td>\n",
              "      <td>DISPERSED</td>\n",
              "    </tr>\n",
              "    <tr>\n",
              "      <th>108</th>\n",
              "      <td>6.00</td>\n",
              "      <td>15.000</td>\n",
              "      <td>DISPERSED</td>\n",
              "    </tr>\n",
              "    <tr>\n",
              "      <th>109</th>\n",
              "      <td>7.00</td>\n",
              "      <td>9.400</td>\n",
              "      <td>DISPERSED</td>\n",
              "    </tr>\n",
              "    <tr>\n",
              "      <th>110</th>\n",
              "      <td>8.00</td>\n",
              "      <td>47.000</td>\n",
              "      <td>DISPERSED</td>\n",
              "    </tr>\n",
              "    <tr>\n",
              "      <th>111</th>\n",
              "      <td>450.00</td>\n",
              "      <td>49.000</td>\n",
              "      <td>DISPERSED</td>\n",
              "    </tr>\n",
              "    <tr>\n",
              "      <th>112</th>\n",
              "      <td>492.00</td>\n",
              "      <td>498.000</td>\n",
              "      <td>DISPERSED</td>\n",
              "    </tr>\n",
              "    <tr>\n",
              "      <th>113</th>\n",
              "      <td>0.10</td>\n",
              "      <td>9.800</td>\n",
              "      <td>DISPERSED</td>\n",
              "    </tr>\n",
              "    <tr>\n",
              "      <th>114</th>\n",
              "      <td>0.50</td>\n",
              "      <td>10.000</td>\n",
              "      <td>DISPERSED</td>\n",
              "    </tr>\n",
              "    <tr>\n",
              "      <th>115</th>\n",
              "      <td>1.00</td>\n",
              "      <td>11.000</td>\n",
              "      <td>DISPERSED</td>\n",
              "    </tr>\n",
              "    <tr>\n",
              "      <th>116</th>\n",
              "      <td>4.00</td>\n",
              "      <td>12.000</td>\n",
              "      <td>DISPERSED</td>\n",
              "    </tr>\n",
              "    <tr>\n",
              "      <th>117</th>\n",
              "      <td>6.00</td>\n",
              "      <td>13.000</td>\n",
              "      <td>DISPERSED</td>\n",
              "    </tr>\n",
              "    <tr>\n",
              "      <th>118</th>\n",
              "      <td>10.00</td>\n",
              "      <td>14.000</td>\n",
              "      <td>DISPERSED</td>\n",
              "    </tr>\n",
              "    <tr>\n",
              "      <th>119</th>\n",
              "      <td>50.00</td>\n",
              "      <td>15.000</td>\n",
              "      <td>DISPERSED</td>\n",
              "    </tr>\n",
              "  </tbody>\n",
              "</table>\n",
              "<p>120 rows × 3 columns</p>\n",
              "</div>"
            ],
            "text/plain": [
              "     Superficial velocity Gas  Superficial Velocity Liquid Flow Pattern\n",
              "0                        0.10                        0.010   STRATIFIED\n",
              "1                        0.10                        0.010   STRATIFIED\n",
              "2                        0.20                        0.020   STRATIFIED\n",
              "3                        0.30                        0.030   STRATIFIED\n",
              "4                        0.40                        0.040   STRATIFIED\n",
              "5                        0.50                        0.050   STRATIFIED\n",
              "6                        0.60                        0.060   STRATIFIED\n",
              "7                        0.70                        0.070   STRATIFIED\n",
              "8                        0.80                        0.080   STRATIFIED\n",
              "9                        0.80                        0.100   STRATIFIED\n",
              "10                       1.00                        0.070   STRATIFIED\n",
              "11                       0.90                        0.013   STRATIFIED\n",
              "12                       0.09                        0.100   STRATIFIED\n",
              "13                       1.50                        0.100   STRATIFIED\n",
              "14                       0.80                        0.060   STRATIFIED\n",
              "15                       0.80                        0.070   STRATIFIED\n",
              "16                       0.05                        0.060   STRATIFIED\n",
              "17                       0.14                        0.030   STRATIFIED\n",
              "18                       1.60                        0.010   STRATIFIED\n",
              "19                       0.90                        0.090   STRATIFIED\n",
              "20                       9.00                        0.040         WAVE\n",
              "21                      10.00                        0.050         WAVE\n",
              "22                      11.00                        0.080         WAVE\n",
              "23                       9.00                        0.010         WAVE\n",
              "24                       9.00                        0.080         WAVE\n",
              "25                      12.00                        0.090         WAVE\n",
              "26                      13.00                        0.070         WAVE\n",
              "27                      14.00                        0.030         WAVE\n",
              "28                      15.00                        0.010         WAVE\n",
              "29                      15.00                        0.009         WAVE\n",
              "..                        ...                          ...          ...\n",
              "90                       0.60                        2.000       BUBBLE\n",
              "91                       0.50                        1.000       BUBBLE\n",
              "92                       0.20                        0.600       BUBBLE\n",
              "93                       0.10                        0.300       BUBBLE\n",
              "94                       0.20                        1.000       BUBBLE\n",
              "95                       0.15                        0.900       BUBBLE\n",
              "96                       0.18                        0.200       BUBBLE\n",
              "97                       0.42                        1.000       BUBBLE\n",
              "98                       0.32                        1.100       BUBBLE\n",
              "99                       0.12                        0.300       BUBBLE\n",
              "100                      0.10                       12.000    DISPERSED\n",
              "101                      0.20                       40.000    DISPERSED\n",
              "102                      0.60                       39.000    DISPERSED\n",
              "103                      1.00                        9.000    DISPERSED\n",
              "104                      2.00                       10.000    DISPERSED\n",
              "105                      3.00                       29.000    DISPERSED\n",
              "106                      4.00                        9.900    DISPERSED\n",
              "107                      5.00                       42.000    DISPERSED\n",
              "108                      6.00                       15.000    DISPERSED\n",
              "109                      7.00                        9.400    DISPERSED\n",
              "110                      8.00                       47.000    DISPERSED\n",
              "111                    450.00                       49.000    DISPERSED\n",
              "112                    492.00                      498.000    DISPERSED\n",
              "113                      0.10                        9.800    DISPERSED\n",
              "114                      0.50                       10.000    DISPERSED\n",
              "115                      1.00                       11.000    DISPERSED\n",
              "116                      4.00                       12.000    DISPERSED\n",
              "117                      6.00                       13.000    DISPERSED\n",
              "118                     10.00                       14.000    DISPERSED\n",
              "119                     50.00                       15.000    DISPERSED\n",
              "\n",
              "[120 rows x 3 columns]"
            ]
          },
          "metadata": {
            "tags": []
          },
          "execution_count": 5
        }
      ]
    },
    {
      "metadata": {
        "id": "lX9g7hrUct0r",
        "colab_type": "code",
        "outputId": "ba0b0063-7ea0-4981-f744-629875eab567",
        "colab": {
          "base_uri": "https://localhost:8080/",
          "height": 136
        }
      },
      "cell_type": "code",
      "source": [
        "df[\"Flow Pattern\"].value_counts()"
      ],
      "execution_count": 0,
      "outputs": [
        {
          "output_type": "execute_result",
          "data": {
            "text/plain": [
              "STRATIFIED    20\n",
              "BUBBLE        20\n",
              "WAVE          20\n",
              "SLUG          20\n",
              "ANNULAR       20\n",
              "DISPERSED     20\n",
              "Name: Flow Pattern, dtype: int64"
            ]
          },
          "metadata": {
            "tags": []
          },
          "execution_count": 6
        }
      ]
    },
    {
      "metadata": {
        "id": "IEIrrzbDsafO",
        "colab_type": "code",
        "outputId": "c756fbc9-88a5-4518-e72d-1ef70bcb093a",
        "colab": {
          "base_uri": "https://localhost:8080/",
          "height": 381
        }
      },
      "cell_type": "code",
      "source": [
        "sns.set(style=\"ticks\")\n",
        "sns.set_palette(\"husl\")\n",
        "sns.pairplot(df.iloc[:,0:6], hue=\"Flow Pattern\")"
      ],
      "execution_count": 0,
      "outputs": [
        {
          "output_type": "execute_result",
          "data": {
            "text/plain": [
              "<seaborn.axisgrid.PairGrid at 0x7f3545c6ee80>"
            ]
          },
          "metadata": {
            "tags": []
          },
          "execution_count": 8
        },
        {
          "output_type": "display_data",
          "data": {
            "image/png": "[encoded data removed]",
            "text/plain": [
              "<Figure size 463.6x360 with 6 Axes>"
            ]
          },
          "metadata": {
            "tags": []
          }
        }
      ]
    },
    {
      "metadata": {
        "id": "MO7JVV0Dt_yQ",
        "colab_type": "code",
        "colab": {}
      },
      "cell_type": "code",
      "source": [
        "#Splitting the data into training and test\n",
        "X = df.iloc[:,0:2].values\n",
        "y = df.iloc[:,2].values\n",
        "\n",
        "from sklearn.preprocessing import LabelEncoder\n",
        "encoder =  LabelEncoder()\n",
        "y1 = encoder.fit_transform(y)\n",
        "Y = pd.get_dummies(y1).values\n",
        "\n",
        "from sklearn.model_selection import train_test_split\n",
        "X_train,X_test, y_train,y_test = train_test_split(X,Y,test_size=0.2,random_state=0)"
      ],
      "execution_count": 0,
      "outputs": []
    },
    {
      "metadata": {
        "id": "vSrPwxnxunPY",
        "colab_type": "code",
        "outputId": "b878d445-c7b9-4713-d306-3dc06246eae4",
        "colab": {
          "base_uri": "https://localhost:8080/",
          "height": 34
        }
      },
      "cell_type": "code",
      "source": [
        "#X\n",
        "#y\n",
        "#y1\n",
        "#Y\n",
        "len(X_test)"
      ],
      "execution_count": 0,
      "outputs": [
        {
          "output_type": "execute_result",
          "data": {
            "text/plain": [
              "24"
            ]
          },
          "metadata": {
            "tags": []
          },
          "execution_count": 10
        }
      ]
    },
    {
      "metadata": {
        "id": "YctwbKJzu33Q",
        "colab_type": "code",
        "outputId": "bf726fd4-3c65-4011-dae6-fe5448a4772e",
        "colab": {
          "base_uri": "https://localhost:8080/",
          "height": 204
        }
      },
      "cell_type": "code",
      "source": [
        "model = Sequential()\n",
        "\n",
        "model.add(Dense(2,input_shape=(2,),activation='relu'))\n",
        "#model.add(Dense(8,activation='tanh'))\n",
        "#model.add(Dense(6,activation='tanh'))\n",
        "model.add(Dense(6,activation='softmax'))\n",
        "\n",
        "model.compile(Adam(lr=0.04),'categorical_crossentropy',metrics=['accuracy'])\n",
        "\n",
        "model.summary()"
      ],
      "execution_count": 42,
      "outputs": [
        {
          "output_type": "stream",
          "text": [
            "_________________________________________________________________\n",
            "Layer (type)                 Output Shape              Param #   \n",
            "=================================================================\n",
            "dense_5 (Dense)              (None, 2)                 6         \n",
            "_________________________________________________________________\n",
            "dense_6 (Dense)              (None, 6)                 18        \n",
            "=================================================================\n",
            "Total params: 24\n",
            "Trainable params: 24\n",
            "Non-trainable params: 0\n",
            "_________________________________________________________________\n"
          ],
          "name": "stdout"
        }
      ]
    },
    {
      "metadata": {
        "id": "MyDDhkFKvSIl",
        "colab_type": "code",
        "outputId": "0173b443-d609-4e4f-a93f-0008b0e2866c",
        "colab": {
          "base_uri": "https://localhost:8080/",
          "height": 298
        }
      },
      "cell_type": "code",
      "source": [
        "plot_model(model, to_file='model_plot.png', show_shapes=True, show_layer_names=True)\n",
        "from IPython.display import Image\n",
        "Image(filename='model_plot.png')"
      ],
      "execution_count": 43,
      "outputs": [
        {
          "output_type": "execute_result",
          "data": {
            "image/png": "[encoded data removed]",
            "text/plain": [
              "<IPython.core.display.Image object>"
            ]
          },
          "metadata": {
            "tags": []
          },
          "execution_count": 43
        }
      ]
    },
    {
      "metadata": {
        "id": "TMZv_Rz1vaJk",
        "colab_type": "code",
        "outputId": "f96643b3-9389-4b1e-ce40-4b6f7e43fe0e",
        "colab": {
          "base_uri": "https://localhost:8080/",
          "height": 276
        }
      },
      "cell_type": "code",
      "source": [
        "from IPython.display import SVG\n",
        "from keras.utils.vis_utils import model_to_dot\n",
        "\n",
        "SVG(model_to_dot(model).create(prog='dot', format='svg'))"
      ],
      "execution_count": 35,
      "outputs": [
        {
          "output_type": "execute_result",
          "data": {
            "text/plain": [
              "<IPython.core.display.SVG object>"
            ],
            "image/svg+xml": "<svg height=\"191pt\" viewBox=\"0.00 0.00 137.00 191.00\" width=\"137pt\" xmlns=\"http://www.w3.org/2000/svg\" xmlns:xlink=\"http://www.w3.org/1999/xlink\">\n<g class=\"graph\" id=\"graph0\" transform=\"scale(1 1) rotate(0) translate(4 187)\">\n<title>G</title>\n<polygon fill=\"#ffffff\" points=\"-4,4 -4,-187 133,-187 133,4 -4,4\" stroke=\"transparent\"/>\n<!-- 139866624278824 -->\n<g class=\"node\" id=\"node1\">\n<title>139866624278824</title>\n<polygon fill=\"none\" points=\"11,-73.5 11,-109.5 118,-109.5 118,-73.5 11,-73.5\" stroke=\"#000000\"/>\n<text fill=\"#000000\" font-family=\"Times,serif\" font-size=\"14.00\" text-anchor=\"middle\" x=\"64.5\" y=\"-87.8\">dense_3: Dense</text>\n</g>\n<!-- 139866624278936 -->\n<g class=\"node\" id=\"node2\">\n<title>139866624278936</title>\n<polygon fill=\"none\" points=\"11,-.5 11,-36.5 118,-36.5 118,-.5 11,-.5\" stroke=\"#000000\"/>\n<text fill=\"#000000\" font-family=\"Times,serif\" font-size=\"14.00\" text-anchor=\"middle\" x=\"64.5\" y=\"-14.8\">dense_4: Dense</text>\n</g>\n<!-- 139866624278824&#45;&gt;139866624278936 -->\n<g class=\"edge\" id=\"edge2\">\n<title>139866624278824-&gt;139866624278936</title>\n<path d=\"M64.5,-73.4551C64.5,-65.3828 64.5,-55.6764 64.5,-46.6817\" fill=\"none\" stroke=\"#000000\"/>\n<polygon fill=\"#000000\" points=\"68.0001,-46.5903 64.5,-36.5904 61.0001,-46.5904 68.0001,-46.5903\" stroke=\"#000000\"/>\n</g>\n<!-- 139866624279328 -->\n<g class=\"node\" id=\"node3\">\n<title>139866624279328</title>\n<polygon fill=\"none\" points=\"0,-146.5 0,-182.5 129,-182.5 129,-146.5 0,-146.5\" stroke=\"#000000\"/>\n<text fill=\"#000000\" font-family=\"Times,serif\" font-size=\"14.00\" text-anchor=\"middle\" x=\"64.5\" y=\"-160.8\">139866624279328</text>\n</g>\n<!-- 139866624279328&#45;&gt;139866624278824 -->\n<g class=\"edge\" id=\"edge1\">\n<title>139866624279328-&gt;139866624278824</title>\n<path d=\"M64.5,-146.4551C64.5,-138.3828 64.5,-128.6764 64.5,-119.6817\" fill=\"none\" stroke=\"#000000\"/>\n<polygon fill=\"#000000\" points=\"68.0001,-119.5903 64.5,-109.5904 61.0001,-119.5904 68.0001,-119.5903\" stroke=\"#000000\"/>\n</g>\n</g>\n</svg>"
          },
          "metadata": {
            "tags": []
          },
          "execution_count": 35
        }
      ]
    },
    {
      "metadata": {
        "id": "u8mWy4ROvlLE",
        "colab_type": "code",
        "outputId": "de4bae19-877f-4809-ba18-d36b48a95fc3",
        "colab": {
          "base_uri": "https://localhost:8080/",
          "height": 3434
        }
      },
      "cell_type": "code",
      "source": [
        "model.fit(X_train,y_train,epochs=100)"
      ],
      "execution_count": 44,
      "outputs": [
        {
          "output_type": "stream",
          "text": [
            "Epoch 1/100\n",
            "96/96 [==============================] - 0s 2ms/step - loss: 3.9553 - acc: 0.1146\n",
            "Epoch 2/100\n",
            "96/96 [==============================] - 0s 66us/step - loss: 3.4660 - acc: 0.0938\n",
            "Epoch 3/100\n",
            "96/96 [==============================] - 0s 199us/step - loss: 3.0788 - acc: 0.1562\n",
            "Epoch 4/100\n",
            "96/96 [==============================] - 0s 65us/step - loss: 2.6078 - acc: 0.1667\n",
            "Epoch 5/100\n",
            "96/96 [==============================] - 0s 47us/step - loss: 2.1501 - acc: 0.1562\n",
            "Epoch 6/100\n",
            "96/96 [==============================] - 0s 45us/step - loss: 1.8551 - acc: 0.1771\n",
            "Epoch 7/100\n",
            "96/96 [==============================] - 0s 44us/step - loss: 1.7198 - acc: 0.2500\n",
            "Epoch 8/100\n",
            "96/96 [==============================] - 0s 44us/step - loss: 1.6984 - acc: 0.2708\n",
            "Epoch 9/100\n",
            "96/96 [==============================] - 0s 43us/step - loss: 1.6938 - acc: 0.2708\n",
            "Epoch 10/100\n",
            "96/96 [==============================] - 0s 46us/step - loss: 1.6892 - acc: 0.2708\n",
            "Epoch 11/100\n",
            "96/96 [==============================] - 0s 44us/step - loss: 1.6744 - acc: 0.2708\n",
            "Epoch 12/100\n",
            "96/96 [==============================] - 0s 43us/step - loss: 1.6559 - acc: 0.2708\n",
            "Epoch 13/100\n",
            "96/96 [==============================] - 0s 45us/step - loss: 1.6351 - acc: 0.2812\n",
            "Epoch 14/100\n",
            "96/96 [==============================] - 0s 44us/step - loss: 1.6170 - acc: 0.2812\n",
            "Epoch 15/100\n",
            "96/96 [==============================] - 0s 44us/step - loss: 1.5996 - acc: 0.2812\n",
            "Epoch 16/100\n",
            "96/96 [==============================] - 0s 43us/step - loss: 1.5880 - acc: 0.2917\n",
            "Epoch 17/100\n",
            "96/96 [==============================] - 0s 43us/step - loss: 1.5684 - acc: 0.2917\n",
            "Epoch 18/100\n",
            "96/96 [==============================] - 0s 44us/step - loss: 1.5323 - acc: 0.3333\n",
            "Epoch 19/100\n",
            "96/96 [==============================] - 0s 56us/step - loss: 1.4981 - acc: 0.3333\n",
            "Epoch 20/100\n",
            "96/96 [==============================] - 0s 47us/step - loss: 1.4775 - acc: 0.2708\n",
            "Epoch 21/100\n",
            "96/96 [==============================] - 0s 50us/step - loss: 1.4542 - acc: 0.2083\n",
            "Epoch 22/100\n",
            "96/96 [==============================] - 0s 46us/step - loss: 1.4198 - acc: 0.2188\n",
            "Epoch 23/100\n",
            "96/96 [==============================] - 0s 45us/step - loss: 1.3662 - acc: 0.3542\n",
            "Epoch 24/100\n",
            "96/96 [==============================] - 0s 45us/step - loss: 1.3483 - acc: 0.2708\n",
            "Epoch 25/100\n",
            "96/96 [==============================] - 0s 51us/step - loss: 1.3307 - acc: 0.3438\n",
            "Epoch 26/100\n",
            "96/96 [==============================] - 0s 52us/step - loss: 1.3135 - acc: 0.3750\n",
            "Epoch 27/100\n",
            "96/96 [==============================] - 0s 90us/step - loss: 1.2954 - acc: 0.4479\n",
            "Epoch 28/100\n",
            "96/96 [==============================] - 0s 53us/step - loss: 1.2810 - acc: 0.5000\n",
            "Epoch 29/100\n",
            "96/96 [==============================] - 0s 61us/step - loss: 1.2636 - acc: 0.4896\n",
            "Epoch 30/100\n",
            "96/96 [==============================] - 0s 58us/step - loss: 1.2489 - acc: 0.4688\n",
            "Epoch 31/100\n",
            "96/96 [==============================] - 0s 78us/step - loss: 1.2373 - acc: 0.5104\n",
            "Epoch 32/100\n",
            "96/96 [==============================] - 0s 62us/step - loss: 1.2307 - acc: 0.5104\n",
            "Epoch 33/100\n",
            "96/96 [==============================] - 0s 60us/step - loss: 1.2237 - acc: 0.5312\n",
            "Epoch 34/100\n",
            "96/96 [==============================] - 0s 53us/step - loss: 1.2139 - acc: 0.5104\n",
            "Epoch 35/100\n",
            "96/96 [==============================] - 0s 48us/step - loss: 1.2062 - acc: 0.5208\n",
            "Epoch 36/100\n",
            "96/96 [==============================] - 0s 53us/step - loss: 1.1987 - acc: 0.5208\n",
            "Epoch 37/100\n",
            "96/96 [==============================] - 0s 50us/step - loss: 1.1917 - acc: 0.5208\n",
            "Epoch 38/100\n",
            "96/96 [==============================] - 0s 58us/step - loss: 1.1842 - acc: 0.5104\n",
            "Epoch 39/100\n",
            "96/96 [==============================] - 0s 58us/step - loss: 1.1762 - acc: 0.5104\n",
            "Epoch 40/100\n",
            "96/96 [==============================] - 0s 55us/step - loss: 1.1691 - acc: 0.5312\n",
            "Epoch 41/100\n",
            "96/96 [==============================] - 0s 50us/step - loss: 1.1607 - acc: 0.5312\n",
            "Epoch 42/100\n",
            "96/96 [==============================] - 0s 52us/step - loss: 1.1520 - acc: 0.5312\n",
            "Epoch 43/100\n",
            "96/96 [==============================] - 0s 52us/step - loss: 1.1433 - acc: 0.5521\n",
            "Epoch 44/100\n",
            "96/96 [==============================] - 0s 55us/step - loss: 1.1340 - acc: 0.5729\n",
            "Epoch 45/100\n",
            "96/96 [==============================] - 0s 52us/step - loss: 1.1242 - acc: 0.5625\n",
            "Epoch 46/100\n",
            "96/96 [==============================] - 0s 49us/step - loss: 1.1149 - acc: 0.5938\n",
            "Epoch 47/100\n",
            "96/96 [==============================] - 0s 49us/step - loss: 1.1046 - acc: 0.6042\n",
            "Epoch 48/100\n",
            "96/96 [==============================] - 0s 56us/step - loss: 1.0961 - acc: 0.5938\n",
            "Epoch 49/100\n",
            "96/96 [==============================] - 0s 57us/step - loss: 1.0871 - acc: 0.5938\n",
            "Epoch 50/100\n",
            "96/96 [==============================] - 0s 53us/step - loss: 1.0772 - acc: 0.6042\n",
            "Epoch 51/100\n",
            "96/96 [==============================] - 0s 47us/step - loss: 1.0686 - acc: 0.5938\n",
            "Epoch 52/100\n",
            "96/96 [==============================] - 0s 50us/step - loss: 1.0615 - acc: 0.6042\n",
            "Epoch 53/100\n",
            "96/96 [==============================] - 0s 46us/step - loss: 1.0521 - acc: 0.6042\n",
            "Epoch 54/100\n",
            "96/96 [==============================] - 0s 47us/step - loss: 1.0432 - acc: 0.5938\n",
            "Epoch 55/100\n",
            "96/96 [==============================] - 0s 50us/step - loss: 1.0361 - acc: 0.5833\n",
            "Epoch 56/100\n",
            "96/96 [==============================] - 0s 55us/step - loss: 1.0285 - acc: 0.5938\n",
            "Epoch 57/100\n",
            "96/96 [==============================] - 0s 48us/step - loss: 1.0223 - acc: 0.5833\n",
            "Epoch 58/100\n",
            "96/96 [==============================] - 0s 46us/step - loss: 1.0144 - acc: 0.5833\n",
            "Epoch 59/100\n",
            "96/96 [==============================] - 0s 47us/step - loss: 1.0091 - acc: 0.5833\n",
            "Epoch 60/100\n",
            "96/96 [==============================] - 0s 49us/step - loss: 1.0012 - acc: 0.5938\n",
            "Epoch 61/100\n",
            "96/96 [==============================] - 0s 47us/step - loss: 0.9952 - acc: 0.5729\n",
            "Epoch 62/100\n",
            "96/96 [==============================] - 0s 48us/step - loss: 0.9867 - acc: 0.5729\n",
            "Epoch 63/100\n",
            "96/96 [==============================] - 0s 50us/step - loss: 0.9828 - acc: 0.5729\n",
            "Epoch 64/100\n",
            "96/96 [==============================] - 0s 47us/step - loss: 0.9756 - acc: 0.5729\n",
            "Epoch 65/100\n",
            "96/96 [==============================] - 0s 53us/step - loss: 0.9662 - acc: 0.5833\n",
            "Epoch 66/100\n",
            "96/96 [==============================] - 0s 46us/step - loss: 0.9593 - acc: 0.6042\n",
            "Epoch 67/100\n",
            "96/96 [==============================] - 0s 50us/step - loss: 0.9513 - acc: 0.6042\n",
            "Epoch 68/100\n",
            "96/96 [==============================] - 0s 55us/step - loss: 0.9451 - acc: 0.6042\n",
            "Epoch 69/100\n",
            "96/96 [==============================] - 0s 49us/step - loss: 0.9376 - acc: 0.5938\n",
            "Epoch 70/100\n",
            "96/96 [==============================] - 0s 52us/step - loss: 0.9313 - acc: 0.5938\n",
            "Epoch 71/100\n",
            "96/96 [==============================] - 0s 54us/step - loss: 0.9251 - acc: 0.5833\n",
            "Epoch 72/100\n",
            "96/96 [==============================] - 0s 48us/step - loss: 0.9175 - acc: 0.5938\n",
            "Epoch 73/100\n",
            "96/96 [==============================] - 0s 50us/step - loss: 0.9121 - acc: 0.6146\n",
            "Epoch 74/100\n",
            "96/96 [==============================] - 0s 49us/step - loss: 0.9073 - acc: 0.6146\n",
            "Epoch 75/100\n",
            "96/96 [==============================] - 0s 52us/step - loss: 0.9014 - acc: 0.6042\n",
            "Epoch 76/100\n",
            "96/96 [==============================] - 0s 54us/step - loss: 0.8962 - acc: 0.6146\n",
            "Epoch 77/100\n",
            "96/96 [==============================] - 0s 51us/step - loss: 0.8940 - acc: 0.6042\n",
            "Epoch 78/100\n",
            "96/96 [==============================] - 0s 53us/step - loss: 0.8890 - acc: 0.5938\n",
            "Epoch 79/100\n",
            "96/96 [==============================] - 0s 50us/step - loss: 0.8847 - acc: 0.6042\n",
            "Epoch 80/100\n",
            "96/96 [==============================] - 0s 53us/step - loss: 0.8817 - acc: 0.5833\n",
            "Epoch 81/100\n",
            "96/96 [==============================] - 0s 53us/step - loss: 0.8780 - acc: 0.5938\n",
            "Epoch 82/100\n",
            "96/96 [==============================] - 0s 55us/step - loss: 0.8738 - acc: 0.5938\n",
            "Epoch 83/100\n",
            "96/96 [==============================] - 0s 55us/step - loss: 0.8707 - acc: 0.6042\n",
            "Epoch 84/100\n",
            "96/96 [==============================] - 0s 54us/step - loss: 0.8677 - acc: 0.5938\n",
            "Epoch 85/100\n",
            "96/96 [==============================] - 0s 52us/step - loss: 0.8640 - acc: 0.6042\n",
            "Epoch 86/100\n",
            "96/96 [==============================] - 0s 49us/step - loss: 0.8616 - acc: 0.6042\n",
            "Epoch 87/100\n",
            "96/96 [==============================] - 0s 45us/step - loss: 0.8587 - acc: 0.5938\n",
            "Epoch 88/100\n",
            "96/96 [==============================] - 0s 44us/step - loss: 0.8604 - acc: 0.5833\n",
            "Epoch 89/100\n",
            "96/96 [==============================] - 0s 45us/step - loss: 0.8540 - acc: 0.5938\n",
            "Epoch 90/100\n",
            "96/96 [==============================] - 0s 48us/step - loss: 0.8513 - acc: 0.6042\n",
            "Epoch 91/100\n",
            "96/96 [==============================] - 0s 49us/step - loss: 0.8491 - acc: 0.6042\n",
            "Epoch 92/100\n",
            "96/96 [==============================] - 0s 49us/step - loss: 0.8460 - acc: 0.6146\n",
            "Epoch 93/100\n",
            "96/96 [==============================] - 0s 51us/step - loss: 0.8445 - acc: 0.5938\n",
            "Epoch 94/100\n",
            "96/96 [==============================] - 0s 49us/step - loss: 0.8433 - acc: 0.5938\n",
            "Epoch 95/100\n",
            "96/96 [==============================] - 0s 50us/step - loss: 0.8396 - acc: 0.5938\n",
            "Epoch 96/100\n",
            "96/96 [==============================] - 0s 47us/step - loss: 0.8394 - acc: 0.5938\n",
            "Epoch 97/100\n",
            "96/96 [==============================] - 0s 50us/step - loss: 0.8368 - acc: 0.6146\n",
            "Epoch 98/100\n",
            "96/96 [==============================] - 0s 42us/step - loss: 0.8351 - acc: 0.6146\n",
            "Epoch 99/100\n",
            "96/96 [==============================] - 0s 43us/step - loss: 0.8318 - acc: 0.6042\n",
            "Epoch 100/100\n",
            "96/96 [==============================] - 0s 47us/step - loss: 0.8311 - acc: 0.6042\n"
          ],
          "name": "stdout"
        },
        {
          "output_type": "execute_result",
          "data": {
            "text/plain": [
              "<keras.callbacks.History at 0x7f3545dace80>"
            ]
          },
          "metadata": {
            "tags": []
          },
          "execution_count": 44
        }
      ]
    },
    {
      "metadata": {
        "id": "SKPuHr8Av6Dd",
        "colab_type": "code",
        "colab": {}
      },
      "cell_type": "code",
      "source": [
        "y_pred = model.predict(X_test)\n",
        "y_test_class = np.argmax(y_test,axis=1)\n",
        "y_pred_class = np.argmax(y_pred,axis=1)"
      ],
      "execution_count": 0,
      "outputs": []
    },
    {
      "metadata": {
        "id": "-zNjT0iJwAHt",
        "colab_type": "code",
        "outputId": "ad06c8f0-01ae-4823-8991-745b8a16fa40",
        "colab": {
          "base_uri": "https://localhost:8080/",
          "height": 833
        }
      },
      "cell_type": "code",
      "source": [
        "y_pred\n",
        "#y_test_class"
      ],
      "execution_count": 38,
      "outputs": [
        {
          "output_type": "execute_result",
          "data": {
            "text/plain": [
              "array([[5.0570148e-01, 3.7534032e-03, 6.5508255e-05, 3.7884538e-03,\n",
              "        4.6561662e-02, 4.4012937e-01],\n",
              "       [1.6590995e-10, 4.4064906e-01, 2.9770454e-02, 4.8163217e-01,\n",
              "        4.7946744e-02, 1.4733923e-06],\n",
              "       [9.4889874e-10, 4.3519461e-01, 2.6888650e-02, 4.7317615e-01,\n",
              "        6.4735979e-02, 4.5815614e-06],\n",
              "       [2.0278890e-03, 2.1977052e-01, 6.2476099e-03, 2.2828230e-01,\n",
              "        4.9450833e-01, 4.9163334e-02],\n",
              "       [1.9798124e-10, 4.4020119e-01, 2.9472467e-02, 4.8088676e-01,\n",
              "        4.9437959e-02, 1.6530489e-06],\n",
              "       [3.6679894e-01, 1.0481295e-02, 1.9591705e-04, 1.0621946e-02,\n",
              "        1.0227933e-01, 5.0962251e-01],\n",
              "       [2.2117302e-03, 2.1712737e-01, 6.1414982e-03, 2.2547005e-01,\n",
              "        4.9723753e-01, 5.1811893e-02],\n",
              "       [2.7331305e-03, 2.1056220e-01, 5.8828061e-03, 2.1849403e-01,\n",
              "        5.0346583e-01, 5.8862031e-02],\n",
              "       [5.0570148e-01, 3.7534032e-03, 6.5508255e-05, 3.7884538e-03,\n",
              "        4.6561662e-02, 4.4012937e-01],\n",
              "       [5.3498632e-09, 4.2712700e-01, 2.4144258e-02, 4.6198037e-01,\n",
              "        8.6734258e-02, 1.4083196e-05],\n",
              "       [3.7154445e-01, 1.0141475e-02, 1.8912379e-04, 1.0276159e-02,\n",
              "        9.9773735e-02, 5.0807506e-01],\n",
              "       [5.0570148e-01, 3.7534032e-03, 6.5508255e-05, 3.7884538e-03,\n",
              "        4.6561662e-02, 4.4012937e-01],\n",
              "       [3.4002832e-03, 2.0360361e-01, 5.6159231e-03, 2.1111397e-01,\n",
              "        5.0916749e-01, 6.7098707e-02],\n",
              "       [3.7030337e-10, 4.3843246e-01, 2.8427834e-02, 4.7805184e-01,\n",
              "        5.5085409e-02, 2.4846277e-06],\n",
              "       [0.0000000e+00, 3.1691542e-04, 9.9903107e-01, 6.5204053e-04,\n",
              "        1.5841457e-21, 0.0000000e+00],\n",
              "       [5.5298988e-10, 4.3714190e-01, 2.7767539e-02, 4.7606862e-01,\n",
              "        5.9018765e-02, 3.2251371e-06],\n",
              "       [5.0570148e-01, 3.7534032e-03, 6.5508255e-05, 3.7884538e-03,\n",
              "        4.6561662e-02, 4.4012937e-01],\n",
              "       [5.0570148e-01, 3.7534032e-03, 6.5508255e-05, 3.7884538e-03,\n",
              "        4.6561662e-02, 4.4012937e-01],\n",
              "       [0.0000000e+00, 1.3936059e-10, 1.0000000e+00, 6.7844519e-10,\n",
              "        0.0000000e+00, 0.0000000e+00],\n",
              "       [1.8329917e-04, 2.8401822e-01, 9.2441551e-03, 2.9737693e-01,\n",
              "        3.9799342e-01, 1.1183967e-02],\n",
              "       [4.1221499e-13, 4.4605088e-01, 4.0913735e-02, 4.9638680e-01,\n",
              "        1.6648596e-02, 2.9455707e-08],\n",
              "       [5.0570148e-01, 3.7534032e-03, 6.5508255e-05, 3.7884538e-03,\n",
              "        4.6561662e-02, 4.4012937e-01],\n",
              "       [1.6316078e-03, 2.2627573e-01, 6.5137525e-03, 2.3521306e-01,\n",
              "        4.8727632e-01, 4.3089554e-02],\n",
              "       [2.0922904e-01, 3.0085778e-02, 6.1055075e-04, 3.0637348e-02,\n",
              "        2.2019079e-01, 5.0924647e-01]], dtype=float32)"
            ]
          },
          "metadata": {
            "tags": []
          },
          "execution_count": 38
        }
      ]
    },
    {
      "metadata": {
        "id": "h3dbOEwuwJ_8",
        "colab_type": "code",
        "outputId": "d7ac6c8b-59f5-45b6-893d-e72cfdbb821b",
        "colab": {
          "base_uri": "https://localhost:8080/",
          "height": 462
        }
      },
      "cell_type": "code",
      "source": [
        "#Accuracy of the predicted values\n",
        "from sklearn.metrics import classification_report,confusion_matrix\n",
        "print(classification_report(y_test_class,y_pred_class))\n",
        "print(confusion_matrix(y_test_class,y_pred_class))"
      ],
      "execution_count": 39,
      "outputs": [
        {
          "output_type": "stream",
          "text": [
            "              precision    recall  f1-score   support\n",
            "\n",
            "           0       0.83      1.00      0.91         5\n",
            "           1       0.00      0.00      0.00         4\n",
            "           2       1.00      1.00      1.00         2\n",
            "           3       0.43      0.75      0.55         4\n",
            "           4       0.83      1.00      0.91         5\n",
            "           5       1.00      0.75      0.86         4\n",
            "\n",
            "   micro avg       0.75      0.75      0.75        24\n",
            "   macro avg       0.68      0.75      0.70        24\n",
            "weighted avg       0.67      0.75      0.70        24\n",
            "\n",
            "[[5 0 0 0 0 0]\n",
            " [0 0 0 4 0 0]\n",
            " [0 0 2 0 0 0]\n",
            " [0 0 0 3 1 0]\n",
            " [0 0 0 0 5 0]\n",
            " [1 0 0 0 0 3]]\n"
          ],
          "name": "stdout"
        },
        {
          "output_type": "stream",
          "text": [
            "/usr/local/lib/python3.6/dist-packages/sklearn/metrics/classification.py:1143: UndefinedMetricWarning: Precision and F-score are ill-defined and being set to 0.0 in labels with no predicted samples.\n",
            "  'precision', 'predicted', average, warn_for)\n",
            "/usr/local/lib/python3.6/dist-packages/sklearn/metrics/classification.py:1143: UndefinedMetricWarning: Precision and F-score are ill-defined and being set to 0.0 in labels with no predicted samples.\n",
            "  'precision', 'predicted', average, warn_for)\n",
            "/usr/local/lib/python3.6/dist-packages/sklearn/metrics/classification.py:1143: UndefinedMetricWarning: Precision and F-score are ill-defined and being set to 0.0 in labels with no predicted samples.\n",
            "  'precision', 'predicted', average, warn_for)\n"
          ],
          "name": "stderr"
        }
      ]
    },
    {
      "metadata": {
        "id": "i-OgpeElwXcT",
        "colab_type": "code",
        "outputId": "446080a1-bd61-42a9-9c5a-6a0bb8f4895e",
        "colab": {
          "base_uri": "https://localhost:8080/",
          "height": 221
        }
      },
      "cell_type": "code",
      "source": [
        "X_test2 = np.array([[400, 0.1],[5,2.5],[8,3.5],[8,3.5],[8,3.5],[10,40]])#STRATIFIED, WAVE, ANNULAR, SLUG, BUBBLE, DISPERSED\n",
        "y_pred2 = model.predict(X_test2)\n",
        "y_pred2"
      ],
      "execution_count": 40,
      "outputs": [
        {
          "output_type": "execute_result",
          "data": {
            "text/plain": [
              "array([[5.0570148e-01, 3.7534032e-03, 6.5508255e-05, 3.7884538e-03,\n",
              "        4.6561662e-02, 4.4012937e-01],\n",
              "       [1.5024637e-20, 4.1815114e-01, 9.1376208e-02, 4.8972437e-01,\n",
              "        7.4826455e-04, 3.9992318e-13],\n",
              "       [2.3566143e-27, 3.6914778e-01, 1.7788614e-01, 4.5292464e-01,\n",
              "        4.1507992e-05, 1.3791933e-17],\n",
              "       [2.3566143e-27, 3.6914778e-01, 1.7788614e-01, 4.5292464e-01,\n",
              "        4.1507992e-05, 1.3791933e-17],\n",
              "       [2.3566143e-27, 3.6914778e-01, 1.7788608e-01, 4.5292464e-01,\n",
              "        4.1508032e-05, 1.3791986e-17],\n",
              "       [0.0000000e+00, 7.2840802e-15, 1.0000000e+00, 6.3340033e-14,\n",
              "        0.0000000e+00, 0.0000000e+00]], dtype=float32)"
            ]
          },
          "metadata": {
            "tags": []
          },
          "execution_count": 40
        }
      ]
    },
    {
      "metadata": {
        "id": "-JKmL5-2xYk5",
        "colab_type": "code",
        "outputId": "a8bbe40c-8985-4572-d501-eaed5b8178ce",
        "colab": {
          "base_uri": "https://localhost:8080/",
          "height": 34
        }
      },
      "cell_type": "code",
      "source": [
        "print(np.argmax(y_pred2,axis=1))#0 = STRATIFIED 1 = WAVE 2 = ANNULAR 3 = SLUG 4 = BUBBLE 5 = DISPERSED"
      ],
      "execution_count": 41,
      "outputs": [
        {
          "output_type": "stream",
          "text": [
            "[0 3 3 3 3 2]\n"
          ],
          "name": "stdout"
        }
      ]
    }
  ]
}